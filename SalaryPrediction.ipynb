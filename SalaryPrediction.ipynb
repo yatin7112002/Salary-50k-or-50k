{
 "cells": [
  {
   "cell_type": "code",
   "execution_count": 1,
   "id": "b87d281e",
   "metadata": {},
   "outputs": [],
   "source": [
    "import pandas as pd\n",
    "import numpy as np\n",
    "import matplotlib.pyplot as plt"
   ]
  },
  {
   "cell_type": "code",
   "execution_count": 15,
   "id": "ad751466",
   "metadata": {},
   "outputs": [
    {
     "data": {
      "text/html": [
       "<div>\n",
       "<style scoped>\n",
       "    .dataframe tbody tr th:only-of-type {\n",
       "        vertical-align: middle;\n",
       "    }\n",
       "\n",
       "    .dataframe tbody tr th {\n",
       "        vertical-align: top;\n",
       "    }\n",
       "\n",
       "    .dataframe thead th {\n",
       "        text-align: right;\n",
       "    }\n",
       "</style>\n",
       "<table border=\"1\" class=\"dataframe\">\n",
       "  <thead>\n",
       "    <tr style=\"text-align: right;\">\n",
       "      <th></th>\n",
       "      <th>0</th>\n",
       "      <th>1</th>\n",
       "      <th>2</th>\n",
       "      <th>3</th>\n",
       "      <th>4</th>\n",
       "      <th>5</th>\n",
       "      <th>6</th>\n",
       "      <th>7</th>\n",
       "      <th>8</th>\n",
       "      <th>9</th>\n",
       "      <th>10</th>\n",
       "      <th>11</th>\n",
       "      <th>12</th>\n",
       "      <th>13</th>\n",
       "      <th>14</th>\n",
       "    </tr>\n",
       "  </thead>\n",
       "  <tbody>\n",
       "    <tr>\n",
       "      <th>0</th>\n",
       "      <td>39</td>\n",
       "      <td>State-gov</td>\n",
       "      <td>77516</td>\n",
       "      <td>Bachelors</td>\n",
       "      <td>13</td>\n",
       "      <td>Never-married</td>\n",
       "      <td>Adm-clerical</td>\n",
       "      <td>Not-in-family</td>\n",
       "      <td>White</td>\n",
       "      <td>Male</td>\n",
       "      <td>2174</td>\n",
       "      <td>0</td>\n",
       "      <td>40</td>\n",
       "      <td>United-States</td>\n",
       "      <td>&lt;=50K</td>\n",
       "    </tr>\n",
       "    <tr>\n",
       "      <th>1</th>\n",
       "      <td>50</td>\n",
       "      <td>Self-emp-not-inc</td>\n",
       "      <td>83311</td>\n",
       "      <td>Bachelors</td>\n",
       "      <td>13</td>\n",
       "      <td>Married-civ-spouse</td>\n",
       "      <td>Exec-managerial</td>\n",
       "      <td>Husband</td>\n",
       "      <td>White</td>\n",
       "      <td>Male</td>\n",
       "      <td>0</td>\n",
       "      <td>0</td>\n",
       "      <td>13</td>\n",
       "      <td>United-States</td>\n",
       "      <td>&lt;=50K</td>\n",
       "    </tr>\n",
       "    <tr>\n",
       "      <th>2</th>\n",
       "      <td>38</td>\n",
       "      <td>Private</td>\n",
       "      <td>215646</td>\n",
       "      <td>HS-grad</td>\n",
       "      <td>9</td>\n",
       "      <td>Divorced</td>\n",
       "      <td>Handlers-cleaners</td>\n",
       "      <td>Not-in-family</td>\n",
       "      <td>White</td>\n",
       "      <td>Male</td>\n",
       "      <td>0</td>\n",
       "      <td>0</td>\n",
       "      <td>40</td>\n",
       "      <td>United-States</td>\n",
       "      <td>&lt;=50K</td>\n",
       "    </tr>\n",
       "    <tr>\n",
       "      <th>3</th>\n",
       "      <td>53</td>\n",
       "      <td>Private</td>\n",
       "      <td>234721</td>\n",
       "      <td>11th</td>\n",
       "      <td>7</td>\n",
       "      <td>Married-civ-spouse</td>\n",
       "      <td>Handlers-cleaners</td>\n",
       "      <td>Husband</td>\n",
       "      <td>Black</td>\n",
       "      <td>Male</td>\n",
       "      <td>0</td>\n",
       "      <td>0</td>\n",
       "      <td>40</td>\n",
       "      <td>United-States</td>\n",
       "      <td>&lt;=50K</td>\n",
       "    </tr>\n",
       "    <tr>\n",
       "      <th>4</th>\n",
       "      <td>28</td>\n",
       "      <td>Private</td>\n",
       "      <td>338409</td>\n",
       "      <td>Bachelors</td>\n",
       "      <td>13</td>\n",
       "      <td>Married-civ-spouse</td>\n",
       "      <td>Prof-specialty</td>\n",
       "      <td>Wife</td>\n",
       "      <td>Black</td>\n",
       "      <td>Female</td>\n",
       "      <td>0</td>\n",
       "      <td>0</td>\n",
       "      <td>40</td>\n",
       "      <td>Cuba</td>\n",
       "      <td>&lt;=50K</td>\n",
       "    </tr>\n",
       "  </tbody>\n",
       "</table>\n",
       "</div>"
      ],
      "text/plain": [
       "   0                  1       2           3   4                    5   \\\n",
       "0  39          State-gov   77516   Bachelors  13        Never-married   \n",
       "1  50   Self-emp-not-inc   83311   Bachelors  13   Married-civ-spouse   \n",
       "2  38            Private  215646     HS-grad   9             Divorced   \n",
       "3  53            Private  234721        11th   7   Married-civ-spouse   \n",
       "4  28            Private  338409   Bachelors  13   Married-civ-spouse   \n",
       "\n",
       "                   6               7       8        9     10  11  12  \\\n",
       "0        Adm-clerical   Not-in-family   White     Male  2174   0  40   \n",
       "1     Exec-managerial         Husband   White     Male     0   0  13   \n",
       "2   Handlers-cleaners   Not-in-family   White     Male     0   0  40   \n",
       "3   Handlers-cleaners         Husband   Black     Male     0   0  40   \n",
       "4      Prof-specialty            Wife   Black   Female     0   0  40   \n",
       "\n",
       "               13      14  \n",
       "0   United-States   <=50K  \n",
       "1   United-States   <=50K  \n",
       "2   United-States   <=50K  \n",
       "3   United-States   <=50K  \n",
       "4            Cuba   <=50K  "
      ]
     },
     "execution_count": 15,
     "metadata": {},
     "output_type": "execute_result"
    }
   ],
   "source": [
    "df = pd.read_csv('adult.csv',names = list(range(0,15)))\n",
    "df.head()"
   ]
  },
  {
   "cell_type": "code",
   "execution_count": 16,
   "id": "32a469f6",
   "metadata": {},
   "outputs": [
    {
     "data": {
      "text/html": [
       "<div>\n",
       "<style scoped>\n",
       "    .dataframe tbody tr th:only-of-type {\n",
       "        vertical-align: middle;\n",
       "    }\n",
       "\n",
       "    .dataframe tbody tr th {\n",
       "        vertical-align: top;\n",
       "    }\n",
       "\n",
       "    .dataframe thead th {\n",
       "        text-align: right;\n",
       "    }\n",
       "</style>\n",
       "<table border=\"1\" class=\"dataframe\">\n",
       "  <thead>\n",
       "    <tr style=\"text-align: right;\">\n",
       "      <th></th>\n",
       "      <th>AGE</th>\n",
       "      <th>WORK_CLASS</th>\n",
       "      <th>FNLWGT</th>\n",
       "      <th>EDUCATION</th>\n",
       "      <th>EDUCATION_NUM</th>\n",
       "      <th>MARITAL_STATUS</th>\n",
       "      <th>OCCU</th>\n",
       "      <th>RELATIONSHIP</th>\n",
       "      <th>RACE</th>\n",
       "      <th>SEX</th>\n",
       "      <th>CAPITAL_GAIN</th>\n",
       "      <th>CAPITAL_LOSS</th>\n",
       "      <th>HOURS_PER_WEEK</th>\n",
       "      <th>NATIVE_COUNTRY</th>\n",
       "      <th>INCOME</th>\n",
       "    </tr>\n",
       "  </thead>\n",
       "  <tbody>\n",
       "    <tr>\n",
       "      <th>0</th>\n",
       "      <td>39</td>\n",
       "      <td>State-gov</td>\n",
       "      <td>77516</td>\n",
       "      <td>Bachelors</td>\n",
       "      <td>13</td>\n",
       "      <td>Never-married</td>\n",
       "      <td>Adm-clerical</td>\n",
       "      <td>Not-in-family</td>\n",
       "      <td>White</td>\n",
       "      <td>Male</td>\n",
       "      <td>2174</td>\n",
       "      <td>0</td>\n",
       "      <td>40</td>\n",
       "      <td>United-States</td>\n",
       "      <td>&lt;=50K</td>\n",
       "    </tr>\n",
       "    <tr>\n",
       "      <th>1</th>\n",
       "      <td>50</td>\n",
       "      <td>Self-emp-not-inc</td>\n",
       "      <td>83311</td>\n",
       "      <td>Bachelors</td>\n",
       "      <td>13</td>\n",
       "      <td>Married-civ-spouse</td>\n",
       "      <td>Exec-managerial</td>\n",
       "      <td>Husband</td>\n",
       "      <td>White</td>\n",
       "      <td>Male</td>\n",
       "      <td>0</td>\n",
       "      <td>0</td>\n",
       "      <td>13</td>\n",
       "      <td>United-States</td>\n",
       "      <td>&lt;=50K</td>\n",
       "    </tr>\n",
       "    <tr>\n",
       "      <th>2</th>\n",
       "      <td>38</td>\n",
       "      <td>Private</td>\n",
       "      <td>215646</td>\n",
       "      <td>HS-grad</td>\n",
       "      <td>9</td>\n",
       "      <td>Divorced</td>\n",
       "      <td>Handlers-cleaners</td>\n",
       "      <td>Not-in-family</td>\n",
       "      <td>White</td>\n",
       "      <td>Male</td>\n",
       "      <td>0</td>\n",
       "      <td>0</td>\n",
       "      <td>40</td>\n",
       "      <td>United-States</td>\n",
       "      <td>&lt;=50K</td>\n",
       "    </tr>\n",
       "    <tr>\n",
       "      <th>3</th>\n",
       "      <td>53</td>\n",
       "      <td>Private</td>\n",
       "      <td>234721</td>\n",
       "      <td>11th</td>\n",
       "      <td>7</td>\n",
       "      <td>Married-civ-spouse</td>\n",
       "      <td>Handlers-cleaners</td>\n",
       "      <td>Husband</td>\n",
       "      <td>Black</td>\n",
       "      <td>Male</td>\n",
       "      <td>0</td>\n",
       "      <td>0</td>\n",
       "      <td>40</td>\n",
       "      <td>United-States</td>\n",
       "      <td>&lt;=50K</td>\n",
       "    </tr>\n",
       "    <tr>\n",
       "      <th>4</th>\n",
       "      <td>28</td>\n",
       "      <td>Private</td>\n",
       "      <td>338409</td>\n",
       "      <td>Bachelors</td>\n",
       "      <td>13</td>\n",
       "      <td>Married-civ-spouse</td>\n",
       "      <td>Prof-specialty</td>\n",
       "      <td>Wife</td>\n",
       "      <td>Black</td>\n",
       "      <td>Female</td>\n",
       "      <td>0</td>\n",
       "      <td>0</td>\n",
       "      <td>40</td>\n",
       "      <td>Cuba</td>\n",
       "      <td>&lt;=50K</td>\n",
       "    </tr>\n",
       "  </tbody>\n",
       "</table>\n",
       "</div>"
      ],
      "text/plain": [
       "   AGE         WORK_CLASS  FNLWGT   EDUCATION  EDUCATION_NUM  \\\n",
       "0   39          State-gov   77516   Bachelors             13   \n",
       "1   50   Self-emp-not-inc   83311   Bachelors             13   \n",
       "2   38            Private  215646     HS-grad              9   \n",
       "3   53            Private  234721        11th              7   \n",
       "4   28            Private  338409   Bachelors             13   \n",
       "\n",
       "        MARITAL_STATUS                OCCU    RELATIONSHIP    RACE      SEX  \\\n",
       "0        Never-married        Adm-clerical   Not-in-family   White     Male   \n",
       "1   Married-civ-spouse     Exec-managerial         Husband   White     Male   \n",
       "2             Divorced   Handlers-cleaners   Not-in-family   White     Male   \n",
       "3   Married-civ-spouse   Handlers-cleaners         Husband   Black     Male   \n",
       "4   Married-civ-spouse      Prof-specialty            Wife   Black   Female   \n",
       "\n",
       "   CAPITAL_GAIN  CAPITAL_LOSS  HOURS_PER_WEEK  NATIVE_COUNTRY  INCOME  \n",
       "0          2174             0              40   United-States   <=50K  \n",
       "1             0             0              13   United-States   <=50K  \n",
       "2             0             0              40   United-States   <=50K  \n",
       "3             0             0              40   United-States   <=50K  \n",
       "4             0             0              40            Cuba   <=50K  "
      ]
     },
     "execution_count": 16,
     "metadata": {},
     "output_type": "execute_result"
    }
   ],
   "source": [
    "df.columns = ['AGE','WORK_CLASS','FNLWGT','EDUCATION','EDUCATION_NUM',\n",
    "             'MARITAL_STATUS','OCCU','RELATIONSHIP','RACE','SEX','CAPITAL_GAIN',\n",
    "             'CAPITAL_LOSS','HOURS_PER_WEEK','NATIVE_COUNTRY','INCOME']\n",
    "df.head()"
   ]
  },
  {
   "cell_type": "code",
   "execution_count": 17,
   "id": "8d285e6f",
   "metadata": {},
   "outputs": [
    {
     "name": "stdout",
     "output_type": "stream",
     "text": [
      "(32561, 15)\n"
     ]
    }
   ],
   "source": [
    "print(df.shape)"
   ]
  },
  {
   "cell_type": "code",
   "execution_count": 18,
   "id": "99ab3aa7",
   "metadata": {},
   "outputs": [
    {
     "name": "stdout",
     "output_type": "stream",
     "text": [
      "AGE               0\n",
      "WORK_CLASS        0\n",
      "FNLWGT            0\n",
      "EDUCATION         0\n",
      "EDUCATION_NUM     0\n",
      "MARITAL_STATUS    0\n",
      "OCCU              0\n",
      "RELATIONSHIP      0\n",
      "RACE              0\n",
      "SEX               0\n",
      "CAPITAL_GAIN      0\n",
      "CAPITAL_LOSS      0\n",
      "HOURS_PER_WEEK    0\n",
      "NATIVE_COUNTRY    0\n",
      "INCOME            0\n",
      "dtype: int64\n"
     ]
    }
   ],
   "source": [
    "print(df.isnull().sum())"
   ]
  },
  {
   "cell_type": "code",
   "execution_count": 19,
   "id": "c1eb1a11",
   "metadata": {},
   "outputs": [],
   "source": [
    "## so there are no null values"
   ]
  },
  {
   "cell_type": "code",
   "execution_count": 20,
   "id": "c1b36135",
   "metadata": {},
   "outputs": [
    {
     "name": "stdout",
     "output_type": "stream",
     "text": [
      "AGE                int64\n",
      "WORK_CLASS        object\n",
      "FNLWGT             int64\n",
      "EDUCATION         object\n",
      "EDUCATION_NUM      int64\n",
      "MARITAL_STATUS    object\n",
      "OCCU              object\n",
      "RELATIONSHIP      object\n",
      "RACE              object\n",
      "SEX               object\n",
      "CAPITAL_GAIN       int64\n",
      "CAPITAL_LOSS       int64\n",
      "HOURS_PER_WEEK     int64\n",
      "NATIVE_COUNTRY    object\n",
      "INCOME            object\n",
      "dtype: object\n"
     ]
    }
   ],
   "source": [
    "print(df.dtypes)"
   ]
  },
  {
   "cell_type": "code",
   "execution_count": 22,
   "id": "2d6f9355",
   "metadata": {},
   "outputs": [],
   "source": [
    "from sklearn.preprocessing import LabelEncoder"
   ]
  },
  {
   "cell_type": "code",
   "execution_count": 23,
   "id": "50cd345b",
   "metadata": {},
   "outputs": [],
   "source": [
    "lb = LabelEncoder()"
   ]
  },
  {
   "cell_type": "code",
   "execution_count": 27,
   "id": "fd017218",
   "metadata": {},
   "outputs": [],
   "source": [
    "df['WORK_CLASS'] = lb.fit_transform(df['WORK_CLASS'])\n",
    "df['EDUCATION'] = lb.fit_transform(df['EDUCATION'])\n",
    "df['MARITAL_STATUS'] = lb.fit_transform(df['MARITAL_STATUS'])\n",
    "df['OCCU'] = lb.fit_transform(df['OCCU'])\n",
    "df['RELATIONSHIP'] = lb.fit_transform(df['RELATIONSHIP'])\n",
    "df['RACE'] = lb.fit_transform(df['RACE'])\n",
    "df['SEX'] = lb.fit_transform(df['SEX'])\n",
    "df['NATIVE_COUNTRY'] = lb.fit_transform(df['NATIVE_COUNTRY'])\n",
    "df['INCOME'] = lb.fit_transform(df['INCOME'])"
   ]
  },
  {
   "cell_type": "code",
   "execution_count": 28,
   "id": "663ec7f0",
   "metadata": {},
   "outputs": [
    {
     "data": {
      "text/plain": [
       "AGE               int64\n",
       "WORK_CLASS        int64\n",
       "FNLWGT            int64\n",
       "EDUCATION         int64\n",
       "EDUCATION_NUM     int64\n",
       "MARITAL_STATUS    int64\n",
       "OCCU              int64\n",
       "RELATIONSHIP      int64\n",
       "RACE              int64\n",
       "SEX               int64\n",
       "CAPITAL_GAIN      int64\n",
       "CAPITAL_LOSS      int64\n",
       "HOURS_PER_WEEK    int64\n",
       "NATIVE_COUNTRY    int64\n",
       "INCOME            int32\n",
       "dtype: object"
      ]
     },
     "execution_count": 28,
     "metadata": {},
     "output_type": "execute_result"
    }
   ],
   "source": [
    "df.dtypes"
   ]
  },
  {
   "cell_type": "code",
   "execution_count": 29,
   "id": "f13630aa",
   "metadata": {},
   "outputs": [
    {
     "data": {
      "text/html": [
       "<div>\n",
       "<style scoped>\n",
       "    .dataframe tbody tr th:only-of-type {\n",
       "        vertical-align: middle;\n",
       "    }\n",
       "\n",
       "    .dataframe tbody tr th {\n",
       "        vertical-align: top;\n",
       "    }\n",
       "\n",
       "    .dataframe thead th {\n",
       "        text-align: right;\n",
       "    }\n",
       "</style>\n",
       "<table border=\"1\" class=\"dataframe\">\n",
       "  <thead>\n",
       "    <tr style=\"text-align: right;\">\n",
       "      <th></th>\n",
       "      <th>AGE</th>\n",
       "      <th>WORK_CLASS</th>\n",
       "      <th>FNLWGT</th>\n",
       "      <th>EDUCATION</th>\n",
       "      <th>EDUCATION_NUM</th>\n",
       "      <th>MARITAL_STATUS</th>\n",
       "      <th>OCCU</th>\n",
       "      <th>RELATIONSHIP</th>\n",
       "      <th>RACE</th>\n",
       "      <th>SEX</th>\n",
       "      <th>CAPITAL_GAIN</th>\n",
       "      <th>CAPITAL_LOSS</th>\n",
       "      <th>HOURS_PER_WEEK</th>\n",
       "      <th>NATIVE_COUNTRY</th>\n",
       "      <th>INCOME</th>\n",
       "    </tr>\n",
       "  </thead>\n",
       "  <tbody>\n",
       "    <tr>\n",
       "      <th>0</th>\n",
       "      <td>39</td>\n",
       "      <td>7</td>\n",
       "      <td>77516</td>\n",
       "      <td>9</td>\n",
       "      <td>13</td>\n",
       "      <td>4</td>\n",
       "      <td>1</td>\n",
       "      <td>1</td>\n",
       "      <td>4</td>\n",
       "      <td>1</td>\n",
       "      <td>2174</td>\n",
       "      <td>0</td>\n",
       "      <td>40</td>\n",
       "      <td>39</td>\n",
       "      <td>0</td>\n",
       "    </tr>\n",
       "    <tr>\n",
       "      <th>1</th>\n",
       "      <td>50</td>\n",
       "      <td>6</td>\n",
       "      <td>83311</td>\n",
       "      <td>9</td>\n",
       "      <td>13</td>\n",
       "      <td>2</td>\n",
       "      <td>4</td>\n",
       "      <td>0</td>\n",
       "      <td>4</td>\n",
       "      <td>1</td>\n",
       "      <td>0</td>\n",
       "      <td>0</td>\n",
       "      <td>13</td>\n",
       "      <td>39</td>\n",
       "      <td>0</td>\n",
       "    </tr>\n",
       "    <tr>\n",
       "      <th>2</th>\n",
       "      <td>38</td>\n",
       "      <td>4</td>\n",
       "      <td>215646</td>\n",
       "      <td>11</td>\n",
       "      <td>9</td>\n",
       "      <td>0</td>\n",
       "      <td>6</td>\n",
       "      <td>1</td>\n",
       "      <td>4</td>\n",
       "      <td>1</td>\n",
       "      <td>0</td>\n",
       "      <td>0</td>\n",
       "      <td>40</td>\n",
       "      <td>39</td>\n",
       "      <td>0</td>\n",
       "    </tr>\n",
       "    <tr>\n",
       "      <th>3</th>\n",
       "      <td>53</td>\n",
       "      <td>4</td>\n",
       "      <td>234721</td>\n",
       "      <td>1</td>\n",
       "      <td>7</td>\n",
       "      <td>2</td>\n",
       "      <td>6</td>\n",
       "      <td>0</td>\n",
       "      <td>2</td>\n",
       "      <td>1</td>\n",
       "      <td>0</td>\n",
       "      <td>0</td>\n",
       "      <td>40</td>\n",
       "      <td>39</td>\n",
       "      <td>0</td>\n",
       "    </tr>\n",
       "    <tr>\n",
       "      <th>4</th>\n",
       "      <td>28</td>\n",
       "      <td>4</td>\n",
       "      <td>338409</td>\n",
       "      <td>9</td>\n",
       "      <td>13</td>\n",
       "      <td>2</td>\n",
       "      <td>10</td>\n",
       "      <td>5</td>\n",
       "      <td>2</td>\n",
       "      <td>0</td>\n",
       "      <td>0</td>\n",
       "      <td>0</td>\n",
       "      <td>40</td>\n",
       "      <td>5</td>\n",
       "      <td>0</td>\n",
       "    </tr>\n",
       "  </tbody>\n",
       "</table>\n",
       "</div>"
      ],
      "text/plain": [
       "   AGE  WORK_CLASS  FNLWGT  EDUCATION  EDUCATION_NUM  MARITAL_STATUS  OCCU  \\\n",
       "0   39           7   77516          9             13               4     1   \n",
       "1   50           6   83311          9             13               2     4   \n",
       "2   38           4  215646         11              9               0     6   \n",
       "3   53           4  234721          1              7               2     6   \n",
       "4   28           4  338409          9             13               2    10   \n",
       "\n",
       "   RELATIONSHIP  RACE  SEX  CAPITAL_GAIN  CAPITAL_LOSS  HOURS_PER_WEEK  \\\n",
       "0             1     4    1          2174             0              40   \n",
       "1             0     4    1             0             0              13   \n",
       "2             1     4    1             0             0              40   \n",
       "3             0     2    1             0             0              40   \n",
       "4             5     2    0             0             0              40   \n",
       "\n",
       "   NATIVE_COUNTRY  INCOME  \n",
       "0              39       0  \n",
       "1              39       0  \n",
       "2              39       0  \n",
       "3              39       0  \n",
       "4               5       0  "
      ]
     },
     "execution_count": 29,
     "metadata": {},
     "output_type": "execute_result"
    }
   ],
   "source": [
    "df.head()"
   ]
  },
  {
   "cell_type": "code",
   "execution_count": 30,
   "id": "9abb8c6d",
   "metadata": {},
   "outputs": [],
   "source": [
    "from sklearn.model_selection import train_test_split"
   ]
  },
  {
   "cell_type": "code",
   "execution_count": 32,
   "id": "b263809d",
   "metadata": {},
   "outputs": [
    {
     "name": "stdout",
     "output_type": "stream",
     "text": [
      "(32561, 14)\n",
      "(32561,)\n"
     ]
    }
   ],
   "source": [
    "x = df.iloc[:,:-1]\n",
    "y = df.iloc[:,-1]\n",
    "print(x.shape)\n",
    "print(y.shape)"
   ]
  },
  {
   "cell_type": "code",
   "execution_count": 33,
   "id": "147f91fa",
   "metadata": {},
   "outputs": [
    {
     "name": "stdout",
     "output_type": "stream",
     "text": [
      "(24420, 14)\n",
      "(8141, 14)\n",
      "(24420,)\n",
      "(8141,)\n"
     ]
    }
   ],
   "source": [
    "x_train,x_test,y_train,y_test = train_test_split(x,y,test_size = 0.25)\n",
    "print(x_train.shape)\n",
    "print(x_test.shape)\n",
    "print(y_train.shape)\n",
    "print(y_test.shape)"
   ]
  },
  {
   "cell_type": "code",
   "execution_count": 35,
   "id": "378059a6",
   "metadata": {},
   "outputs": [],
   "source": [
    "from sklearn.tree import DecisionTreeClassifier\n",
    "from sklearn.ensemble import RandomForestClassifier\n",
    "from sklearn.linear_model import LogisticRegression\n",
    "from sklearn.neighbors import KNeighborsClassifier\n",
    "from sklearn.svm import SVC\n",
    "from sklearn.metrics import confusion_matrix,classification_report,accuracy_score"
   ]
  },
  {
   "cell_type": "code",
   "execution_count": 43,
   "id": "c610edae",
   "metadata": {},
   "outputs": [],
   "source": [
    "def model_sc(m) : \n",
    "    print(\"Training Score : \",m.score(x_train,y_train))\n",
    "    print(\"Testing Score : \",m.score(x_test,y_test))\n",
    "def model_met(y_test,ypred_m) :\n",
    "    cm = confusion_matrix(y_test,ypred_m)\n",
    "    print(cm)\n",
    "    print(\"Classification Report : \",classification_report(y_test,ypred_m))"
   ]
  },
  {
   "cell_type": "code",
   "execution_count": 44,
   "id": "31eab175",
   "metadata": {},
   "outputs": [
    {
     "data": {
      "text/plain": [
       "DecisionTreeClassifier(criterion='entropy', max_depth=9, min_samples_split=40)"
      ]
     },
     "execution_count": 44,
     "metadata": {},
     "output_type": "execute_result"
    }
   ],
   "source": [
    "m1 = DecisionTreeClassifier(criterion = 'entropy',max_depth = 9,min_samples_split = 40)\n",
    "m1.fit(x_train,y_train)"
   ]
  },
  {
   "cell_type": "code",
   "execution_count": 45,
   "id": "069962cd",
   "metadata": {},
   "outputs": [
    {
     "name": "stdout",
     "output_type": "stream",
     "text": [
      "[0 1 0 ... 0 1 0]\n"
     ]
    }
   ],
   "source": [
    "ypred_m1 = m1.predict(x_test)\n",
    "print(ypred_m1)"
   ]
  },
  {
   "cell_type": "code",
   "execution_count": 46,
   "id": "bbe6dfca",
   "metadata": {},
   "outputs": [
    {
     "name": "stdout",
     "output_type": "stream",
     "text": [
      "Training Score :  0.8622850122850123\n",
      "Testing Score :  0.8480530647340622\n"
     ]
    }
   ],
   "source": [
    "## 0 means <=50K\n",
    "## 1 means >50k\n",
    "model_sc(m1)"
   ]
  },
  {
   "cell_type": "code",
   "execution_count": 47,
   "id": "7fbce8f5",
   "metadata": {},
   "outputs": [
    {
     "name": "stdout",
     "output_type": "stream",
     "text": [
      "[[5830  362]\n",
      " [ 875 1074]]\n",
      "Classification Report :                precision    recall  f1-score   support\n",
      "\n",
      "           0       0.87      0.94      0.90      6192\n",
      "           1       0.75      0.55      0.63      1949\n",
      "\n",
      "    accuracy                           0.85      8141\n",
      "   macro avg       0.81      0.75      0.77      8141\n",
      "weighted avg       0.84      0.85      0.84      8141\n",
      "\n"
     ]
    }
   ],
   "source": [
    "model_met(y_test,ypred_m1)"
   ]
  },
  {
   "cell_type": "code",
   "execution_count": 48,
   "id": "345c1c0a",
   "metadata": {},
   "outputs": [],
   "source": [
    "## TP = 5830 , FN = 362 , FP = 875, TN = 1074\n",
    "## PRECISION = TP/(TP+FP) OR TN/(TN+FN)\n",
    "## Recall = TP/(TP+FN) OR TN/(TN+FP)\n",
    "## F1-score = ((2*Precision*Recall)/(Precission+Recall))\n",
    "## Accuracy = ((TP+TN)/(TP+FN+FP+TN))"
   ]
  },
  {
   "cell_type": "code",
   "execution_count": 50,
   "id": "32016a0c",
   "metadata": {},
   "outputs": [
    {
     "name": "stdout",
     "output_type": "stream",
     "text": [
      "0.8695003728560775\n",
      "0.7479108635097493\n"
     ]
    }
   ],
   "source": [
    "pre0 = 5830/(5830+875)\n",
    "pre1 = 1074/(1074+362)\n",
    "print(pre0)\n",
    "print(pre1)"
   ]
  },
  {
   "cell_type": "code",
   "execution_count": 51,
   "id": "da828ab5",
   "metadata": {},
   "outputs": [
    {
     "name": "stdout",
     "output_type": "stream",
     "text": [
      "0.9415374677002584\n",
      "0.5510518214468958\n"
     ]
    }
   ],
   "source": [
    "rec0 = 5830/(5830+362)\n",
    "rec1 = 1074/(1074+875)\n",
    "print(rec0)\n",
    "print(rec1)"
   ]
  },
  {
   "cell_type": "code",
   "execution_count": 61,
   "id": "033df03d",
   "metadata": {},
   "outputs": [
    {
     "name": "stdout",
     "output_type": "stream",
     "text": [
      "0.9040862216019229\n",
      "0.6345642540620383\n"
     ]
    }
   ],
   "source": [
    "f10 = ((2*pre0*rec0)/(pre0+rec0))\n",
    "f11 = ((2*pre1*rec1)/(pre1+rec1))\n",
    "print(f10)\n",
    "print(f11)"
   ]
  },
  {
   "cell_type": "code",
   "execution_count": 53,
   "id": "d144e5ef",
   "metadata": {},
   "outputs": [
    {
     "name": "stdout",
     "output_type": "stream",
     "text": [
      "0.8480530647340622\n"
     ]
    }
   ],
   "source": [
    "accu = (5830+1074)/(5830+362+875+1074)\n",
    "print(accu)"
   ]
  },
  {
   "cell_type": "code",
   "execution_count": 88,
   "id": "468ec31a",
   "metadata": {},
   "outputs": [
    {
     "name": "stdout",
     "output_type": "stream",
     "text": [
      "Percentage Missclassification of m1 :  0.15194693526593783\n"
     ]
    }
   ],
   "source": [
    "per_miss_class_m1 = ((362+875)/(5830+362+875+1074))\n",
    "print(\"Percentage Missclassification of m1 : \",per_miss_class_m1)"
   ]
  },
  {
   "cell_type": "code",
   "execution_count": 56,
   "id": "a20a4e23",
   "metadata": {},
   "outputs": [
    {
     "data": {
      "text/plain": [
       "RandomForestClassifier(criterion='entropy', max_depth=9, min_samples_split=35,\n",
       "                       n_estimators=60)"
      ]
     },
     "execution_count": 56,
     "metadata": {},
     "output_type": "execute_result"
    }
   ],
   "source": [
    "m2 = RandomForestClassifier(criterion = 'entropy',max_depth = 9,min_samples_split = 35,n_estimators = 60)\n",
    "m2.fit(x_train,y_train)"
   ]
  },
  {
   "cell_type": "code",
   "execution_count": 57,
   "id": "5a278eeb",
   "metadata": {},
   "outputs": [
    {
     "name": "stdout",
     "output_type": "stream",
     "text": [
      "[0 1 0 ... 0 1 0]\n"
     ]
    }
   ],
   "source": [
    "ypred_m2 = m2.predict(x_test)\n",
    "print(ypred_m2)"
   ]
  },
  {
   "cell_type": "code",
   "execution_count": 58,
   "id": "ca972644",
   "metadata": {},
   "outputs": [
    {
     "name": "stdout",
     "output_type": "stream",
     "text": [
      "Training Score :  0.8621212121212121\n",
      "Testing Score :  0.8537034762314212\n"
     ]
    }
   ],
   "source": [
    "model_sc(m2)"
   ]
  },
  {
   "cell_type": "code",
   "execution_count": 59,
   "id": "5aaa6e7a",
   "metadata": {},
   "outputs": [
    {
     "name": "stdout",
     "output_type": "stream",
     "text": [
      "[[5896  296]\n",
      " [ 895 1054]]\n",
      "Classification Report :                precision    recall  f1-score   support\n",
      "\n",
      "           0       0.87      0.95      0.91      6192\n",
      "           1       0.78      0.54      0.64      1949\n",
      "\n",
      "    accuracy                           0.85      8141\n",
      "   macro avg       0.82      0.75      0.77      8141\n",
      "weighted avg       0.85      0.85      0.84      8141\n",
      "\n"
     ]
    }
   ],
   "source": [
    "model_met(y_test,ypred_m2)"
   ]
  },
  {
   "cell_type": "code",
   "execution_count": 60,
   "id": "c4bde48a",
   "metadata": {},
   "outputs": [],
   "source": [
    "## TP = 5896 , FN = 296 , FP = 895, TN = 1054\n",
    "## PRECISION = TP/(TP+FP) OR TN/(TN+FN)\n",
    "## Recall = TP/(TP+FN) OR TN/(TN+FP)\n",
    "## F1-score = ((2*Precision*Recall)/(Precission+Recall))\n",
    "## Accuracy = ((TP+TN)/(TP+FN+FP+TN))"
   ]
  },
  {
   "cell_type": "code",
   "execution_count": 63,
   "id": "3c7dd8a6",
   "metadata": {},
   "outputs": [
    {
     "name": "stdout",
     "output_type": "stream",
     "text": [
      "0.8682079222500368\n",
      "0.7807407407407407\n",
      "0.9521963824289406\n",
      "0.5407901487942535\n",
      "0.9082646537780174\n",
      "0.638981509548348\n",
      "0.8537034762314212\n"
     ]
    }
   ],
   "source": [
    "pre0_m2 = 5896/(5896+895)\n",
    "pre1_m2 = 1054/(1054+296)\n",
    "print(pre0_m2)\n",
    "print(pre1_m2)\n",
    "rec0_m2 = 5896/(5896+296)\n",
    "rec1_m2 = 1054/(1054+895)\n",
    "print(rec0_m2)\n",
    "print(rec1_m2)\n",
    "f10_m2 = ((2*pre0_m2*rec0_m2)/(pre0_m2+rec0_m2))\n",
    "f11_m2 = ((2*pre1_m2*rec1_m2)/(pre1_m2+rec1_m2))\n",
    "print(f10_m2)\n",
    "print(f11_m2)\n",
    "accu = (5896+1054)/(5896+296+895+1054)\n",
    "print(accu)"
   ]
  },
  {
   "cell_type": "code",
   "execution_count": 89,
   "id": "345e6d68",
   "metadata": {},
   "outputs": [
    {
     "name": "stdout",
     "output_type": "stream",
     "text": [
      "Percentage Missclassification for model2 :  0.1462965237685788\n"
     ]
    }
   ],
   "source": [
    "per_miss_class_m2 = (895+296)/(5896+296+895+1054)\n",
    "print(\"Percentage Missclassification for model2 : \",per_miss_class_m2)"
   ]
  },
  {
   "cell_type": "code",
   "execution_count": 64,
   "id": "9fccc544",
   "metadata": {},
   "outputs": [
    {
     "data": {
      "text/plain": [
       "LogisticRegression()"
      ]
     },
     "execution_count": 64,
     "metadata": {},
     "output_type": "execute_result"
    }
   ],
   "source": [
    "m3 = LogisticRegression()\n",
    "m3.fit(x_train,y_train)"
   ]
  },
  {
   "cell_type": "code",
   "execution_count": 65,
   "id": "8c5025d3",
   "metadata": {},
   "outputs": [
    {
     "name": "stdout",
     "output_type": "stream",
     "text": [
      "[0 0 0 ... 0 0 0]\n"
     ]
    }
   ],
   "source": [
    "ypred_m3 = m3.predict(x_test)\n",
    "print(ypred_m3)"
   ]
  },
  {
   "cell_type": "code",
   "execution_count": 66,
   "id": "57e37d5c",
   "metadata": {},
   "outputs": [
    {
     "name": "stdout",
     "output_type": "stream",
     "text": [
      "Training Score :  0.8001638001638002\n",
      "Testing Score :  0.8003930721041641\n"
     ]
    }
   ],
   "source": [
    "model_sc(m3)"
   ]
  },
  {
   "cell_type": "code",
   "execution_count": 67,
   "id": "94df4588",
   "metadata": {},
   "outputs": [
    {
     "name": "stdout",
     "output_type": "stream",
     "text": [
      "[[6001  191]\n",
      " [1434  515]]\n",
      "Classification Report :                precision    recall  f1-score   support\n",
      "\n",
      "           0       0.81      0.97      0.88      6192\n",
      "           1       0.73      0.26      0.39      1949\n",
      "\n",
      "    accuracy                           0.80      8141\n",
      "   macro avg       0.77      0.62      0.63      8141\n",
      "weighted avg       0.79      0.80      0.76      8141\n",
      "\n"
     ]
    }
   ],
   "source": [
    "model_met(y_test,ypred_m3)"
   ]
  },
  {
   "cell_type": "code",
   "execution_count": null,
   "id": "746ab699",
   "metadata": {},
   "outputs": [],
   "source": [
    "## TP = 6001 , FN = 191 , FP = 1434, TN = 515\n",
    "## PRECISION = TP/(TP+FP) OR TN/(TN+FN)\n",
    "## Recall = TP/(TP+FN) OR TN/(TN+FP)\n",
    "## F1-score = ((2*Precision*Recall)/(Precission+Recall))\n",
    "## Accuracy = ((TP+TN)/(TP+FN+FP+TN))"
   ]
  },
  {
   "cell_type": "code",
   "execution_count": 69,
   "id": "a1708b05",
   "metadata": {},
   "outputs": [
    {
     "name": "stdout",
     "output_type": "stream",
     "text": [
      "0.807128446536651\n",
      "0.7294617563739377\n",
      "0.9691537467700259\n",
      "0.2642380708055413\n",
      "0.880751449328539\n",
      "0.3879472693032015\n",
      "0.8003930721041641\n"
     ]
    }
   ],
   "source": [
    "pre0_m3 = 6001/(6001+1434)\n",
    "pre1_m3 = 515/(515+191)\n",
    "print(pre0_m3)\n",
    "print(pre1_m3)\n",
    "rec0_m3 = 6001/(6001+191)\n",
    "rec1_m3 = 515/(515+1434)\n",
    "print(rec0_m3)\n",
    "print(rec1_m3)\n",
    "f10_m3 = ((2*pre0_m3*rec0_m3)/(pre0_m3+rec0_m3))\n",
    "f11_m3 = ((2*pre1_m3*rec1_m3)/(pre1_m3+rec1_m3))\n",
    "print(f10_m3)\n",
    "print(f11_m3)\n",
    "accu = (6001+515)/(6001+191+1434+515)\n",
    "print(accu)"
   ]
  },
  {
   "cell_type": "code",
   "execution_count": 90,
   "id": "b16c865c",
   "metadata": {},
   "outputs": [
    {
     "name": "stdout",
     "output_type": "stream",
     "text": [
      "Percentage Missclassification for model3 :  0.1996069278958359\n"
     ]
    }
   ],
   "source": [
    "per_miss_class_m3 = (191+1434)/(6001+191+1434+515)\n",
    "print(\"Percentage Missclassification for model3 : \",per_miss_class_m3)"
   ]
  },
  {
   "cell_type": "code",
   "execution_count": 71,
   "id": "1b0644cf",
   "metadata": {},
   "outputs": [
    {
     "data": {
      "text/plain": [
       "KNeighborsClassifier(n_neighbors=180)"
      ]
     },
     "execution_count": 71,
     "metadata": {},
     "output_type": "execute_result"
    }
   ],
   "source": [
    "m4 = KNeighborsClassifier(n_neighbors = 180)\n",
    "m4.fit(x_train,y_train)"
   ]
  },
  {
   "cell_type": "code",
   "execution_count": 72,
   "id": "ddd410df",
   "metadata": {},
   "outputs": [
    {
     "name": "stdout",
     "output_type": "stream",
     "text": [
      "[0 0 0 ... 0 0 0]\n"
     ]
    }
   ],
   "source": [
    "ypred_m4 = m4.predict(x_test)\n",
    "print(ypred_m4)"
   ]
  },
  {
   "cell_type": "code",
   "execution_count": 73,
   "id": "5653fd88",
   "metadata": {},
   "outputs": [
    {
     "name": "stdout",
     "output_type": "stream",
     "text": [
      "Training Score :  0.7765356265356266\n",
      "Testing Score :  0.7773000859845228\n"
     ]
    }
   ],
   "source": [
    "model_sc(m4)"
   ]
  },
  {
   "cell_type": "code",
   "execution_count": 75,
   "id": "886b25e1",
   "metadata": {},
   "outputs": [
    {
     "name": "stdout",
     "output_type": "stream",
     "text": [
      "[[6191    1]\n",
      " [1812  137]]\n",
      "Classification Report :                precision    recall  f1-score   support\n",
      "\n",
      "           0       0.77      1.00      0.87      6192\n",
      "           1       0.99      0.07      0.13      1949\n",
      "\n",
      "    accuracy                           0.78      8141\n",
      "   macro avg       0.88      0.54      0.50      8141\n",
      "weighted avg       0.83      0.78      0.69      8141\n",
      "\n"
     ]
    }
   ],
   "source": [
    "model_met(y_test,ypred_m4)"
   ]
  },
  {
   "cell_type": "code",
   "execution_count": 77,
   "id": "20059c93",
   "metadata": {},
   "outputs": [],
   "source": [
    "## TP = 6191 , FN = 1 , FP = 1812, TN = 137\n",
    "## PRECISION = TP/(TP+FP) OR TN/(TN+FN)\n",
    "## Recall = TP/(TP+FN) OR TN/(TN+FP)\n",
    "## F1-score = ((2*Precision*Recall)/(Precission+Recall))\n",
    "## Accuracy = ((TP+TN)/(TP+FN+FP+TN))"
   ]
  },
  {
   "cell_type": "code",
   "execution_count": 79,
   "id": "917be97c",
   "metadata": {},
   "outputs": [
    {
     "name": "stdout",
     "output_type": "stream",
     "text": [
      "0.7735849056603774\n",
      "0.9927536231884058\n",
      "0.9998385012919897\n",
      "0.07029245767060031\n",
      "0.872278971468827\n",
      "0.13128893148059417\n",
      "0.7773000859845228\n"
     ]
    }
   ],
   "source": [
    "pre0_m4 = 6191/(6191+1812)\n",
    "pre1_m4 = 137/(137+1)\n",
    "print(pre0_m4)\n",
    "print(pre1_m4)\n",
    "rec0_m4 = 6191/(6191+1)\n",
    "rec1_m4 = 137/(137+1812)\n",
    "print(rec0_m4)\n",
    "print(rec1_m4)\n",
    "f10_m4 = ((2*pre0_m4*rec0_m4)/(pre0_m4+rec0_m4))\n",
    "f11_m4 = ((2*pre1_m4*rec1_m4)/(pre1_m4+rec1_m4))\n",
    "print(f10_m4)\n",
    "print(f11_m4)\n",
    "accu = (6191+137)/(6191+1+1812+137)\n",
    "print(accu)"
   ]
  },
  {
   "cell_type": "code",
   "execution_count": 91,
   "id": "295f3301",
   "metadata": {},
   "outputs": [
    {
     "name": "stdout",
     "output_type": "stream",
     "text": [
      "Percentage Missclassification for model4 :  0.1996069278958359\n"
     ]
    }
   ],
   "source": [
    "per_miss_class_m4 = (1812+1)/(6191+1+1812+137)\n",
    "print(\"Percentage Missclassification for model4 : \",per_miss_class_m2)"
   ]
  },
  {
   "cell_type": "code",
   "execution_count": 80,
   "id": "627aa0e1",
   "metadata": {},
   "outputs": [
    {
     "data": {
      "text/plain": [
       "SVC(C=1, kernel='linear')"
      ]
     },
     "execution_count": 80,
     "metadata": {},
     "output_type": "execute_result"
    }
   ],
   "source": [
    "m5 = SVC(kernel = 'linear',C = 1)\n",
    "m5.fit(x_train,y_train)"
   ]
  },
  {
   "cell_type": "code",
   "execution_count": 82,
   "id": "03195669",
   "metadata": {},
   "outputs": [
    {
     "name": "stdout",
     "output_type": "stream",
     "text": [
      "[0 0 0 ... 0 0 0]\n"
     ]
    }
   ],
   "source": [
    "ypred_m5 = m5.predict(x_test)\n",
    "print(ypred_m5)"
   ]
  },
  {
   "cell_type": "code",
   "execution_count": 83,
   "id": "fde6b3be",
   "metadata": {},
   "outputs": [
    {
     "name": "stdout",
     "output_type": "stream",
     "text": [
      "Training Score :  0.7954954954954955\n",
      "Testing Score :  0.7968308561601769\n"
     ]
    }
   ],
   "source": [
    "model_sc(m5)"
   ]
  },
  {
   "cell_type": "code",
   "execution_count": 84,
   "id": "1288746b",
   "metadata": {},
   "outputs": [
    {
     "name": "stdout",
     "output_type": "stream",
     "text": [
      "[[5891  301]\n",
      " [1353  596]]\n",
      "Classification Report :                precision    recall  f1-score   support\n",
      "\n",
      "           0       0.81      0.95      0.88      6192\n",
      "           1       0.66      0.31      0.42      1949\n",
      "\n",
      "    accuracy                           0.80      8141\n",
      "   macro avg       0.74      0.63      0.65      8141\n",
      "weighted avg       0.78      0.80      0.77      8141\n",
      "\n"
     ]
    }
   ],
   "source": [
    "model_met(y_test,ypred_m5)"
   ]
  },
  {
   "cell_type": "code",
   "execution_count": 81,
   "id": "ba1e7608",
   "metadata": {},
   "outputs": [],
   "source": [
    "## TP = 5891 , FN = 301 , FP = 1353, TN = 596\n",
    "## PRECISION = TP/(TP+FP) OR TN/(TN+FN)\n",
    "## Recall = TP/(TP+FN) OR TN/(TN+FP)\n",
    "## F1-score = ((2*Precision*Recall)/(Precission+Recall))\n",
    "## Accuracy = ((TP+TN)/(TP+FN+FP+TN))"
   ]
  },
  {
   "cell_type": "code",
   "execution_count": 86,
   "id": "601aafc8",
   "metadata": {},
   "outputs": [
    {
     "name": "stdout",
     "output_type": "stream",
     "text": [
      "0.8132247377139702\n",
      "0.6644370122630993\n",
      "0.9513888888888888\n",
      "0.30579784504874297\n",
      "0.8768978862756772\n",
      "0.41883345045678144\n",
      "0.7968308561601769\n"
     ]
    }
   ],
   "source": [
    "pre0_m5 = 5891/(5891+1353)\n",
    "pre1_m5 = 596/(596+301)\n",
    "print(pre0_m5)\n",
    "print(pre1_m5)\n",
    "rec0_m5 = 5891/(5891+301)\n",
    "rec1_m5 = 596/(596+1353)\n",
    "print(rec0_m5)\n",
    "print(rec1_m5)\n",
    "f10_m5 = ((2*pre0_m5*rec0_m5)/(pre0_m5+rec0_m5))\n",
    "f11_m5 = ((2*pre1_m5*rec1_m5)/(pre1_m5+rec1_m5))\n",
    "print(f10_m5)\n",
    "print(f11_m5)\n",
    "accu = (5891+596)/(5891+301+1353+596)\n",
    "print(accu)"
   ]
  },
  {
   "cell_type": "code",
   "execution_count": 92,
   "id": "460b72a1",
   "metadata": {},
   "outputs": [
    {
     "name": "stdout",
     "output_type": "stream",
     "text": [
      "Percentage Missclassification for model5 :  0.20316914383982312\n"
     ]
    }
   ],
   "source": [
    "per_miss_class_m5 = (1353+301)/(5891+301+1353+596)\n",
    "print(\"Percentage Missclassification for model5 : \",per_miss_class_m5)"
   ]
  },
  {
   "cell_type": "code",
   "execution_count": 93,
   "id": "12a25936",
   "metadata": {},
   "outputs": [],
   "source": [
    "## Best model with accuracy score = Random Forest Classifier(accu = 0.8537)"
   ]
  }
 ],
 "metadata": {
  "kernelspec": {
   "display_name": "Python 3 (ipykernel)",
   "language": "python",
   "name": "python3"
  },
  "language_info": {
   "codemirror_mode": {
    "name": "ipython",
    "version": 3
   },
   "file_extension": ".py",
   "mimetype": "text/x-python",
   "name": "python",
   "nbconvert_exporter": "python",
   "pygments_lexer": "ipython3",
   "version": "3.9.7"
  }
 },
 "nbformat": 4,
 "nbformat_minor": 5
}
